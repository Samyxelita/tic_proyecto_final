{
 "cells": [
  {
   "cell_type": "markdown",
   "id": "78b40c2c",
   "metadata": {},
   "source": [
    "# 📊 Comparación de rendimiento: VM vs Docker"
   ]
  },
  {
   "cell_type": "markdown",
   "id": "b78df9c9",
   "metadata": {},
   "source": [
    "\n",
    "Este notebook contiene los análisis de las pruebas de rendimiento realizadas sobre una máquina virtual (VirtualBox) y un contenedor Docker. Las pruebas incluyen:\n",
    "\n",
    "- Uso de CPU, RAM y Disco\n",
    "- Tiempo de arranque\n",
    "- Pruebas de rendimiento con `sysbench`\n",
    "- Desempeño de una aplicación Node.js bajo carga\n"
   ]
  },
  {
   "cell_type": "code",
   "execution_count": null,
   "id": "3acea5dc",
   "metadata": {},
   "outputs": [],
   "source": [
    "\n",
    "# 📥 Importar librerías necesarias\n",
    "import matplotlib.pyplot as plt\n",
    "import psutil\n",
    "import json\n"
   ]
  },
  {
   "cell_type": "markdown",
   "id": "3ea8f7e2",
   "metadata": {},
   "source": [
    "## 📈 Gráfico Radar de Comparación de Métricas"
   ]
  },
  {
   "cell_type": "code",
   "execution_count": null,
   "id": "1b9b169f",
   "metadata": {},
   "outputs": [],
   "source": [
    "\n",
    "# Ejemplo de gráfico radar con matplotlib\n",
    "labels = ['CPU Usage', 'Memory Usage', 'Disk I/O', 'Startup Time', 'App Latency']\n",
    "vm_scores = [7, 6, 5, 3, 6]\n",
    "docker_scores = [9, 9, 8, 10, 9]\n",
    "\n",
    "import numpy as np\n",
    "\n",
    "angles = np.linspace(0, 2 * np.pi, len(labels), endpoint=False).tolist()\n",
    "vm_scores += vm_scores[:1]\n",
    "docker_scores += docker_scores[:1]\n",
    "angles += angles[:1]\n",
    "\n",
    "fig, ax = plt.subplots(figsize=(6, 6), subplot_kw=dict(polar=True))\n",
    "ax.plot(angles, vm_scores, 'o-', linewidth=2, label='VM')\n",
    "ax.fill(angles, vm_scores, alpha=0.25)\n",
    "ax.plot(angles, docker_scores, 'o-', linewidth=2, label='Docker')\n",
    "ax.fill(angles, docker_scores, alpha=0.25)\n",
    "ax.set_thetagrids(np.degrees(angles[:-1]), labels)\n",
    "ax.set_title('VM vs Docker Performance Comparison', size=14)\n",
    "ax.legend(loc='upper right')\n",
    "plt.show()\n"
   ]
  },
  {
   "cell_type": "markdown",
   "id": "3aae24a6",
   "metadata": {},
   "source": [
    "## 📂 Resultados y análisis"
   ]
  },
  {
   "cell_type": "markdown",
   "id": "b77b9213",
   "metadata": {},
   "source": [
    "\n",
    "- Docker tiene menor tiempo de arranque y menor consumo de RAM.\n",
    "- Las VM ofrecen mejor aislamiento pero son más pesadas.\n",
    "- Para despliegues rápidos y CI/CD, Docker es más eficiente.\n",
    "- Si se necesita un entorno totalmente separado, la VM es más segura.\n"
   ]
  }
 ],
 "metadata": {},
 "nbformat": 4,
 "nbformat_minor": 5
}